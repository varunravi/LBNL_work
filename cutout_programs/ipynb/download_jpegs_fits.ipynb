{
 "cells": [
  {
   "cell_type": "markdown",
   "metadata": {},
   "source": [
    "### function used to get cutouts and jpegs directly from viewer"
   ]
  },
  {
   "cell_type": "code",
   "execution_count": 13,
   "metadata": {},
   "outputs": [],
   "source": [
    "%matplotlib inline\n",
    "import tensorflow as tf\n",
    "import numpy as np\n",
    "import glob\n",
    "import os\n",
    "import scipy\n",
    "from astropy.io import fits\n",
    "import importlib.util\n",
    "import matplotlib.pyplot as plt\n",
    "from sklearn import metrics\n",
    "import matplotlib.backends.backend_pdf\n",
    "import re\n",
    "import copy\n",
    "from astropy.visualization import make_lupton_rgb\n",
    "import wget\n",
    "import urllib.request\n",
    "import shutil"
   ]
  },
  {
   "cell_type": "code",
   "execution_count": 21,
   "metadata": {},
   "outputs": [],
   "source": [
    "def indices_to_fits(indices, fits_path, new_folder, new_name):\n",
    "    '''\n",
    "    Use to generate fits folders from numpy indices, given corresponding parent fits folder. New file is generated\n",
    "    under new_folder/new_name_{npy idx}.fits\n",
    "    '''\n",
    "    for idx in indices[:500]:\n",
    "        shutil.copy2(fits_path+'cutout_{:06d}.fits'.format(int(idx)), new_folder+new_name+'_{:06d}.fits'.format(int(idx)))"
   ]
  },
  {
   "cell_type": "code",
   "execution_count": 18,
   "metadata": {},
   "outputs": [],
   "source": [
    "selected_ims = np.load('/Users/mac/Desktop/LBNL/DR7/selected_decals_nonlens_id.npy')\n",
    "fits_path = '/Users/mac/Desktop/LBNL/DR7/fits_cutouts_dr7/'\n",
    "new_folder = '/Users/mac/Desktop/LBNL/DR7/selected_decals_nonlenses_fits/'\n",
    "new_name = 'selected_decals_nonlens'\n",
    "indices_to_fits(selected_ims, fits_path, new_folder, new_name)"
   ]
  },
  {
   "cell_type": "code",
   "execution_count": 22,
   "metadata": {},
   "outputs": [],
   "source": [
    "indices = np.load('/Users/mac/Desktop/LBNL/DR7/kept_decals_nonlenses.npy')\n",
    "fits_path = '/Users/mac/Desktop/LBNL/DR7/fits_cutouts_dr7/'\n",
    "new_folder = '/Users/mac/Desktop/LBNL/DR7/kept_decals_nonlenses_check_fits/'\n",
    "new_name = 'kept_decals_nonlens_check'\n",
    "indices_to_fits(selected_ims, fits_path, new_folder, new_name)"
   ]
  },
  {
   "cell_type": "code",
   "execution_count": 66,
   "metadata": {},
   "outputs": [],
   "source": [
    "def download_jpegs_fits(fits_folder, jpeg_folder, dictionary_path, save_idx=0, layer='decals-dr7'):\n",
    "    '''\n",
    "    * NOT QUITE FINISHED FOR FULL OPTIMIZATION * a bit hardcoded still\n",
    "    enter ra+dec from legacy survey viewer as in format: 24.3948&dec=-13.0079\n",
    "    \n",
    "    function splits up ra and dec, downloads jpeg and fit cutout centered at that location. need to specify\n",
    "    folders, layer.\n",
    "    \n",
    "    this is so that we can manually look at the skyviewer and easily enter coordinates of objects we want cutouts of.\n",
    "    \n",
    "    \n",
    "    '''\n",
    "    cont = True\n",
    "    while cont:\n",
    "        # get user inputs (ra dec cluster)\n",
    "        ra_dec = input('enter ra, dec: ')\n",
    "        if ra_dec == 'exit' or ra_dec == 'quit':\n",
    "            print('*user exit')\n",
    "            cont = False\n",
    "            break\n",
    "        ra, dec = ra_dec.split('&dec=')\n",
    "        cluster = input('enter cluster name: ')\n",
    "        if cluster == 'exit' or cluster == 'quit':\n",
    "            print('*user exit')\n",
    "            cont = False\n",
    "            break\n",
    "            \n",
    "        # download jpeg\n",
    "        urllib.request.urlretrieve('http://legacysurvey.org/viewer/jpeg-cutout?ra={}&dec={}&layer={}&pixscale=0.262&bands=grz&size=101'.format(ra, dec, layer), jpeg_folder+'cluster_nonlens_{:06d}.jpeg'.format(save_idx))\n",
    "        \n",
    "        # download fits\n",
    "        url = 'http://legacysurvey.org/viewer/fits-cutout?ra={}&dec={}&layer={}&pixscale=0.262&bands=grz&size=101'.format(ra, dec, layer)\n",
    "        filename = wget.download(url, fits_folder+'cluster_nonlens_{:06d}.fits'.format(save_idx))\n",
    "\n",
    "        # append id, ra, dec, cluster name to dictionary array\n",
    "        dict_arr = np.load(dictionary_path)\n",
    "        dict_arr[save_idx] = {'cluster_nonlens_id':'cluster_nonlens_{:06d}'.format(save_idx), 'ra':ra, 'dec':dec, 'cluster':cluster}\n",
    "        np.save(dictionary_path,dict_arr)\n",
    "        save_idx += 1\n",
    "        \n",
    "    print('exiting. stopped on idx ', save_idx)\n",
    "    return save_idx"
   ]
  },
  {
   "cell_type": "code",
   "execution_count": 21,
   "metadata": {},
   "outputs": [
    {
     "name": "stdout",
     "output_type": "stream",
     "text": [
      "enter ra, dec: 200.1760, 32.0599\n",
      "200.1760 32.0599\n"
     ]
    }
   ],
   "source": [
    "# testing different splits\n",
    "ra_dec = input('enter ra, dec: ')\n",
    "ra, dec = ra_dec.split(', ')\n",
    "print(ra, dec)"
   ]
  },
  {
   "cell_type": "raw",
   "metadata": {},
   "source": [
    "# for cluster nonlenses ONLY RUN ONCE DUMMY\n",
    "fits_folder = '/Users/mac/Desktop/LBNL/DR7/selected_cluster_nonlenses_fits/'\n",
    "jpeg_folder = '/Users/mac/Desktop/LBNL/DR7/selected_cluster_nonlenses_jpegs/'\n",
    "dictionary_path = '/Users/mac/Desktop/LBNL/DR7/selected_cluster_nonlenses.npy'\n",
    "dict_empty = {'cluster_nonlens_id':'none', 'ra':0, 'dec':0, 'cluster':'none'} #dictionary of id, ra, dec, cluster\n",
    "dict_arr = np.array([dict_empty]*500, dtype=type(dict_empty))\n",
    "np.save(dictionary_path,dict_arr)"
   ]
  },
  {
   "cell_type": "code",
   "execution_count": 74,
   "metadata": {},
   "outputs": [
    {
     "name": "stdout",
     "output_type": "stream",
     "text": [
      "enter ra, dec: 24.3948&dec=-13.0080\n",
      "enter cluster name: abell 222\n",
      "enter ra, dec: 24.3597&dec=-12.9993\n",
      "enter cluster name: abell 222\n",
      "enter ra, dec: 24.3948&dec=-13.0079\n",
      "enter cluster name: abell 222\n",
      "enter ra, dec: exit\n",
      "*user exit\n",
      "exiting. stopped on idx  7\n"
     ]
    }
   ],
   "source": [
    "# START ON IDX 7\n",
    "save_idx = download_jpegs_fits(fits_folder, jpeg_folder, dictionary_path, save_idx, layer='decals-dr7')"
   ]
  },
  {
   "cell_type": "code",
   "execution_count": 75,
   "metadata": {},
   "outputs": [
    {
     "data": {
      "text/plain": [
       "array([ {'cluster_nonlens_id': 'cluster_nonlens_000000', 'ra': '24.3889', 'dec': '-12.989', 'cluster': 'abell 222'},\n",
       "       {'cluster_nonlens_id': 'cluster_nonlens_000001', 'ra': '24.3895', 'dec': '-12.9935', 'cluster': 'abell 222'},\n",
       "       {'cluster_nonlens_id': 'cluster_nonlens_000002', 'ra': '24.3762', 'dec': '-12.9945', 'cluster': 'abell 222'},\n",
       "       {'cluster_nonlens_id': 'cluster_nonlens_000003', 'ra': '24.3889', 'dec': '-12.9860', 'cluster': 'abell 222'},\n",
       "       {'cluster_nonlens_id': 'cluster_nonlens_000004', 'ra': '24.3948', 'dec': '-13.0080', 'cluster': 'abell 222'},\n",
       "       {'cluster_nonlens_id': 'cluster_nonlens_000005', 'ra': '24.3597', 'dec': '-12.9993', 'cluster': 'abell 222'},\n",
       "       {'cluster_nonlens_id': 'cluster_nonlens_000006', 'ra': '24.3948', 'dec': '-13.0079', 'cluster': 'abell 222'},\n",
       "       {'cluster_nonlens_id': 'none', 'ra': 0, 'dec': 0, 'cluster': 'none'},\n",
       "       {'cluster_nonlens_id': 'none', 'ra': 0, 'dec': 0, 'cluster': 'none'},\n",
       "       {'cluster_nonlens_id': 'none', 'ra': 0, 'dec': 0, 'cluster': 'none'}], dtype=object)"
      ]
     },
     "execution_count": 75,
     "metadata": {},
     "output_type": "execute_result"
    }
   ],
   "source": [
    "np_dict = np.load(dictionary_path)\n",
    "np_dict[:10]"
   ]
  },
  {
   "cell_type": "code",
   "execution_count": null,
   "metadata": {},
   "outputs": [],
   "source": []
  }
 ],
 "metadata": {
  "kernelspec": {
   "display_name": "Python 3",
   "language": "python",
   "name": "python3"
  },
  "language_info": {
   "codemirror_mode": {
    "name": "ipython",
    "version": 3
   },
   "file_extension": ".py",
   "mimetype": "text/x-python",
   "name": "python",
   "nbconvert_exporter": "python",
   "pygments_lexer": "ipython3",
   "version": "3.6.5"
  }
 },
 "nbformat": 4,
 "nbformat_minor": 2
}
