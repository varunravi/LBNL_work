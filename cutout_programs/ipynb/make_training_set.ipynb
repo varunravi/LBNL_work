{
 "cells": [
  {
   "cell_type": "markdown",
   "metadata": {},
   "source": [
    "### use to generate npz file subet folders for training LASTRO models"
   ]
  },
  {
   "cell_type": "code",
   "execution_count": 8,
   "metadata": {},
   "outputs": [],
   "source": [
    "%matplotlib inline\n",
    "import tensorflow as tf\n",
    "import numpy as np\n",
    "import glob\n",
    "import os\n",
    "from astropy.io import fits\n",
    "import importlib.util\n",
    "import matplotlib.pyplot as plt\n",
    "from sklearn.metrics import roc_curve, auc\n",
    "import matplotlib.backends.backend_pdf\n",
    "import re\n",
    "import shutil"
   ]
  },
  {
   "cell_type": "code",
   "execution_count": 71,
   "metadata": {},
   "outputs": [],
   "source": [
    "npz_path = '/Users/mac/Desktop/LBNL/lensfinder-euclid-master/npz_3band_groundbased/'\n",
    "files = sorted(glob.glob(npz_path+'*.npz'))"
   ]
  },
  {
   "cell_type": "code",
   "execution_count": 72,
   "metadata": {},
   "outputs": [
    {
     "name": "stdout",
     "output_type": "stream",
     "text": [
      "20000\n"
     ]
    }
   ],
   "source": [
    "print(len(files))"
   ]
  },
  {
   "cell_type": "code",
   "execution_count": 73,
   "metadata": {},
   "outputs": [],
   "source": [
    "def create_npz_folder(n_lens, n_nonlens, prev_npz_path, new_npz_path):\n",
    "    files = sorted(glob.glob(prev_npz_path+'*.npz'))\n",
    "    print('files will be copied from', prev_npz_path)\n",
    "    # get lens IDs\n",
    "    lens_ids = []\n",
    "    for i,f in enumerate(files[1500:]):\n",
    "        with np.load(f) as data:\n",
    "            if data['is_lens'] == 1:\n",
    "                lens_ids.append(data['id'])\n",
    "        if len(lens_ids) == n_lens:\n",
    "            print('got {} lens'.format(n_lens))\n",
    "            break\n",
    "\n",
    "    # get nonlens IDs\n",
    "    nonlens_ids = []\n",
    "    for i,f in enumerate(files[1500:]):\n",
    "        with np.load(f) as data:\n",
    "            if data['is_lens'] == 0:\n",
    "                nonlens_ids.append(data['id'])\n",
    "        if len(nonlens_ids) == n_nonlens:\n",
    "            print('got {} nonlens'.format(n_nonlens))\n",
    "            break\n",
    "\n",
    "    print('copying {} specified files to {}'.format(n_lens+n_nonlens, new_npz_path))\n",
    "    for ID in lens_ids:\n",
    "        shutil.copy2(prev_npz_path+'{}.npz'.format(str(ID)), new_npz_path+'lens_{}.npz'.format(str(ID)))\n",
    "    for ID in nonlens_ids:\n",
    "        shutil.copy2(prev_npz_path+'{}.npz'.format(str(ID)), new_npz_path+'nonlens_{}.npz'.format(str(ID)))"
   ]
  },
  {
   "cell_type": "code",
   "execution_count": 10,
   "metadata": {},
   "outputs": [],
   "source": [
    "def create_specified_npz_folder(indices_paths, dl_paths, out_path, dl_fnames):\n",
    "    '''\n",
    "    Generates a folder of npz files for training. Input indices and paths as corresponding lists of numpy arrays paths\n",
    "    and matching npz folder paths. Order indices: lens, then nonlens (for how I wrote LASTRO to split training set)\n",
    "    '''\n",
    "    for i,indices_path in enumerate(indices_paths):\n",
    "        print('copy files from {}\\n         to {}\\nusing {}'.format(dl_paths[i], out_path, indices_path))\n",
    "        indices = np.load(indices_path)\n",
    "        for idx in indices:\n",
    "            shutil.copy2(dl_paths[i]+dl_fnames[i]+'{:06d}.npz'.format(int(idx)), out_path+dl_fnames[i]+'{:06d}.npz'.format(int(idx)))\n",
    "        print('done.\\n')"
   ]
  },
  {
   "cell_type": "code",
   "execution_count": null,
   "metadata": {},
   "outputs": [],
   "source": [
    "# /Users/mac/Desktop/LBNL/npz_decals_nonlenses_dr7"
   ]
  },
  {
   "cell_type": "code",
   "execution_count": 11,
   "metadata": {},
   "outputs": [
    {
     "name": "stdout",
     "output_type": "stream",
     "text": [
      "copy files from /Users/mac/Desktop/LBNL/lensfinder-euclid-master/npz_3band_decals/\n",
      "         to /Users/mac/Desktop/LBNL/lensfinder-euclid-master/npz_decals_BIG_TRAINING/\n",
      "using /Users/mac/Desktop/LBNL/DR7/selected_decals_nonlens_id.npy\n"
     ]
    },
    {
     "ename": "FileNotFoundError",
     "evalue": "[Errno 2] No such file or directory: '/Users/mac/Desktop/LBNL/lensfinder-euclid-master/npz_3band_decals/000001.npz'",
     "output_type": "error",
     "traceback": [
      "\u001b[0;31m---------------------------------------------------------------------------\u001b[0m",
      "\u001b[0;31mFileNotFoundError\u001b[0m                         Traceback (most recent call last)",
      "\u001b[0;32m<ipython-input-11-dfe0119271fe>\u001b[0m in \u001b[0;36m<module>\u001b[0;34m()\u001b[0m\n\u001b[1;32m      3\u001b[0m \u001b[0mdecals_set_out\u001b[0m \u001b[0;34m=\u001b[0m \u001b[0;34m'/Users/mac/Desktop/LBNL/lensfinder-euclid-master/npz_decals_BIG_TRAINING/'\u001b[0m\u001b[0;34m\u001b[0m\u001b[0m\n\u001b[1;32m      4\u001b[0m \u001b[0mdecals_filenames\u001b[0m \u001b[0;34m=\u001b[0m \u001b[0;34m[\u001b[0m\u001b[0;34m''\u001b[0m\u001b[0;34m]\u001b[0m\u001b[0;34m\u001b[0m\u001b[0m\n\u001b[0;32m----> 5\u001b[0;31m \u001b[0mcreate_specified_npz_folder\u001b[0m\u001b[0;34m(\u001b[0m\u001b[0mdecals_indices_paths\u001b[0m\u001b[0;34m,\u001b[0m \u001b[0mdecals_dl_paths\u001b[0m\u001b[0;34m,\u001b[0m \u001b[0mdecals_set_out\u001b[0m\u001b[0;34m,\u001b[0m \u001b[0mdecals_filenames\u001b[0m\u001b[0;34m)\u001b[0m\u001b[0;34m\u001b[0m\u001b[0m\n\u001b[0m",
      "\u001b[0;32m<ipython-input-10-7eccf6c87fb9>\u001b[0m in \u001b[0;36mcreate_specified_npz_folder\u001b[0;34m(indices_paths, dl_paths, out_path, dl_fnames)\u001b[0m\n\u001b[1;32m      8\u001b[0m         \u001b[0mindices\u001b[0m \u001b[0;34m=\u001b[0m \u001b[0mnp\u001b[0m\u001b[0;34m.\u001b[0m\u001b[0mload\u001b[0m\u001b[0;34m(\u001b[0m\u001b[0mindices_path\u001b[0m\u001b[0;34m)\u001b[0m\u001b[0;34m\u001b[0m\u001b[0m\n\u001b[1;32m      9\u001b[0m         \u001b[0;32mfor\u001b[0m \u001b[0midx\u001b[0m \u001b[0;32min\u001b[0m \u001b[0mindices\u001b[0m\u001b[0;34m:\u001b[0m\u001b[0;34m\u001b[0m\u001b[0m\n\u001b[0;32m---> 10\u001b[0;31m             \u001b[0mshutil\u001b[0m\u001b[0;34m.\u001b[0m\u001b[0mcopy2\u001b[0m\u001b[0;34m(\u001b[0m\u001b[0mdl_paths\u001b[0m\u001b[0;34m[\u001b[0m\u001b[0mi\u001b[0m\u001b[0;34m]\u001b[0m\u001b[0;34m+\u001b[0m\u001b[0mdl_fnames\u001b[0m\u001b[0;34m[\u001b[0m\u001b[0mi\u001b[0m\u001b[0;34m]\u001b[0m\u001b[0;34m+\u001b[0m\u001b[0;34m'{:06d}.npz'\u001b[0m\u001b[0;34m.\u001b[0m\u001b[0mformat\u001b[0m\u001b[0;34m(\u001b[0m\u001b[0mint\u001b[0m\u001b[0;34m(\u001b[0m\u001b[0midx\u001b[0m\u001b[0;34m)\u001b[0m\u001b[0;34m)\u001b[0m\u001b[0;34m,\u001b[0m \u001b[0mout_path\u001b[0m\u001b[0;34m+\u001b[0m\u001b[0mdl_fnames\u001b[0m\u001b[0;34m[\u001b[0m\u001b[0mi\u001b[0m\u001b[0;34m]\u001b[0m\u001b[0;34m+\u001b[0m\u001b[0;34m'{:06d}.npz'\u001b[0m\u001b[0;34m.\u001b[0m\u001b[0mformat\u001b[0m\u001b[0;34m(\u001b[0m\u001b[0mint\u001b[0m\u001b[0;34m(\u001b[0m\u001b[0midx\u001b[0m\u001b[0;34m)\u001b[0m\u001b[0;34m)\u001b[0m\u001b[0;34m)\u001b[0m\u001b[0;34m\u001b[0m\u001b[0m\n\u001b[0m\u001b[1;32m     11\u001b[0m         \u001b[0mprint\u001b[0m\u001b[0;34m(\u001b[0m\u001b[0;34m'done.\\n'\u001b[0m\u001b[0;34m)\u001b[0m\u001b[0;34m\u001b[0m\u001b[0m\n",
      "\u001b[0;32m/anaconda3/lib/python3.6/shutil.py\u001b[0m in \u001b[0;36mcopy2\u001b[0;34m(src, dst, follow_symlinks)\u001b[0m\n\u001b[1;32m    255\u001b[0m     \u001b[0;32mif\u001b[0m \u001b[0mos\u001b[0m\u001b[0;34m.\u001b[0m\u001b[0mpath\u001b[0m\u001b[0;34m.\u001b[0m\u001b[0misdir\u001b[0m\u001b[0;34m(\u001b[0m\u001b[0mdst\u001b[0m\u001b[0;34m)\u001b[0m\u001b[0;34m:\u001b[0m\u001b[0;34m\u001b[0m\u001b[0m\n\u001b[1;32m    256\u001b[0m         \u001b[0mdst\u001b[0m \u001b[0;34m=\u001b[0m \u001b[0mos\u001b[0m\u001b[0;34m.\u001b[0m\u001b[0mpath\u001b[0m\u001b[0;34m.\u001b[0m\u001b[0mjoin\u001b[0m\u001b[0;34m(\u001b[0m\u001b[0mdst\u001b[0m\u001b[0;34m,\u001b[0m \u001b[0mos\u001b[0m\u001b[0;34m.\u001b[0m\u001b[0mpath\u001b[0m\u001b[0;34m.\u001b[0m\u001b[0mbasename\u001b[0m\u001b[0;34m(\u001b[0m\u001b[0msrc\u001b[0m\u001b[0;34m)\u001b[0m\u001b[0;34m)\u001b[0m\u001b[0;34m\u001b[0m\u001b[0m\n\u001b[0;32m--> 257\u001b[0;31m     \u001b[0mcopyfile\u001b[0m\u001b[0;34m(\u001b[0m\u001b[0msrc\u001b[0m\u001b[0;34m,\u001b[0m \u001b[0mdst\u001b[0m\u001b[0;34m,\u001b[0m \u001b[0mfollow_symlinks\u001b[0m\u001b[0;34m=\u001b[0m\u001b[0mfollow_symlinks\u001b[0m\u001b[0;34m)\u001b[0m\u001b[0;34m\u001b[0m\u001b[0m\n\u001b[0m\u001b[1;32m    258\u001b[0m     \u001b[0mcopystat\u001b[0m\u001b[0;34m(\u001b[0m\u001b[0msrc\u001b[0m\u001b[0;34m,\u001b[0m \u001b[0mdst\u001b[0m\u001b[0;34m,\u001b[0m \u001b[0mfollow_symlinks\u001b[0m\u001b[0;34m=\u001b[0m\u001b[0mfollow_symlinks\u001b[0m\u001b[0;34m)\u001b[0m\u001b[0;34m\u001b[0m\u001b[0m\n\u001b[1;32m    259\u001b[0m     \u001b[0;32mreturn\u001b[0m \u001b[0mdst\u001b[0m\u001b[0;34m\u001b[0m\u001b[0m\n",
      "\u001b[0;32m/anaconda3/lib/python3.6/shutil.py\u001b[0m in \u001b[0;36mcopyfile\u001b[0;34m(src, dst, follow_symlinks)\u001b[0m\n\u001b[1;32m    118\u001b[0m         \u001b[0mos\u001b[0m\u001b[0;34m.\u001b[0m\u001b[0msymlink\u001b[0m\u001b[0;34m(\u001b[0m\u001b[0mos\u001b[0m\u001b[0;34m.\u001b[0m\u001b[0mreadlink\u001b[0m\u001b[0;34m(\u001b[0m\u001b[0msrc\u001b[0m\u001b[0;34m)\u001b[0m\u001b[0;34m,\u001b[0m \u001b[0mdst\u001b[0m\u001b[0;34m)\u001b[0m\u001b[0;34m\u001b[0m\u001b[0m\n\u001b[1;32m    119\u001b[0m     \u001b[0;32melse\u001b[0m\u001b[0;34m:\u001b[0m\u001b[0;34m\u001b[0m\u001b[0m\n\u001b[0;32m--> 120\u001b[0;31m         \u001b[0;32mwith\u001b[0m \u001b[0mopen\u001b[0m\u001b[0;34m(\u001b[0m\u001b[0msrc\u001b[0m\u001b[0;34m,\u001b[0m \u001b[0;34m'rb'\u001b[0m\u001b[0;34m)\u001b[0m \u001b[0;32mas\u001b[0m \u001b[0mfsrc\u001b[0m\u001b[0;34m:\u001b[0m\u001b[0;34m\u001b[0m\u001b[0m\n\u001b[0m\u001b[1;32m    121\u001b[0m             \u001b[0;32mwith\u001b[0m \u001b[0mopen\u001b[0m\u001b[0;34m(\u001b[0m\u001b[0mdst\u001b[0m\u001b[0;34m,\u001b[0m \u001b[0;34m'wb'\u001b[0m\u001b[0;34m)\u001b[0m \u001b[0;32mas\u001b[0m \u001b[0mfdst\u001b[0m\u001b[0;34m:\u001b[0m\u001b[0;34m\u001b[0m\u001b[0m\n\u001b[1;32m    122\u001b[0m                 \u001b[0mcopyfileobj\u001b[0m\u001b[0;34m(\u001b[0m\u001b[0mfsrc\u001b[0m\u001b[0;34m,\u001b[0m \u001b[0mfdst\u001b[0m\u001b[0;34m)\u001b[0m\u001b[0;34m\u001b[0m\u001b[0m\n",
      "\u001b[0;31mFileNotFoundError\u001b[0m: [Errno 2] No such file or directory: '/Users/mac/Desktop/LBNL/lensfinder-euclid-master/npz_3band_decals/000001.npz'"
     ]
    }
   ],
   "source": [
    "decals_indices_paths = ['/Users/mac/Desktop/LBNL/DR7/selected_decals_nonlens_id.npy']\n",
    "decals_dl_paths = ['/Users/mac/Desktop/LBNL/lensfinder-euclid-master/npz_3band_decals/']\n",
    "decals_set_out = '/Users/mac/Desktop/LBNL/lensfinder-euclid-master/npz_decals_BIG_TRAINING/'\n",
    "decals_filenames = ['']\n",
    "create_specified_npz_folder(decals_indices_paths, decals_dl_paths, decals_set_out, decals_filenames)"
   ]
  },
  {
   "cell_type": "code",
   "execution_count": 75,
   "metadata": {},
   "outputs": [
    {
     "name": "stdout",
     "output_type": "stream",
     "text": [
      "files will be copied from /Users/mac/Desktop/LBNL/lensfinder-euclid-master/npz_3band_groundbased/\n",
      "got 105 lens\n",
      "got 215 nonlens\n",
      "copying 320 specified files to /Users/mac/Desktop/LBNL/lensfinder-euclid-master/npz_3band_groundbased_105-215_3/\n"
     ]
    }
   ],
   "source": [
    "prev_npz_path = '/Users/mac/Desktop/LBNL/lensfinder-euclid-master/npz_3band_groundbased/'\n",
    "new_npz_path = '/Users/mac/Desktop/LBNL/lensfinder-euclid-master/npz_3band_groundbased_105-215_4/'\n",
    "\n",
    "create_npz_folder(105, 215, prev_npz_path, new_npz_path)"
   ]
  },
  {
   "cell_type": "code",
   "execution_count": 63,
   "metadata": {},
   "outputs": [
    {
     "name": "stdout",
     "output_type": "stream",
     "text": [
      "files will be copied from /Users/mac/Desktop/LBNL/lensfinder-euclid-master/npz_3band_groundbased/\n",
      "got 105 lens\n",
      "got 215 nonlens\n",
      "copying 320 specified files to /Users/mac/Desktop/LBNL/lensfinder-euclid-master/npz_3band_groundbased_95-215/\n"
     ]
    }
   ],
   "source": [
    "# 320 total - 105 lens, 215 nonlens\n",
    "create_npz_folder(105, 215, prev_npz_path, '/Users/mac/Desktop/LBNL/lensfinder-euclid-master/npz_3band_groundbased_105-215/')"
   ]
  }
 ],
 "metadata": {
  "kernelspec": {
   "display_name": "Python 3",
   "language": "python",
   "name": "python3"
  },
  "language_info": {
   "codemirror_mode": {
    "name": "ipython",
    "version": 3
   },
   "file_extension": ".py",
   "mimetype": "text/x-python",
   "name": "python",
   "nbconvert_exporter": "python",
   "pygments_lexer": "ipython3",
   "version": "3.6.5"
  }
 },
 "nbformat": 4,
 "nbformat_minor": 2
}
