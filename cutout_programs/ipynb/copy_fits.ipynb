{
 "cells": [
  {
   "cell_type": "code",
   "execution_count": 1,
   "metadata": {},
   "outputs": [],
   "source": [
    "%matplotlib inline\n",
    "import tensorflow as tf\n",
    "import numpy as np\n",
    "import glob\n",
    "import os\n",
    "import scipy\n",
    "from astropy.io import fits\n",
    "import importlib.util\n",
    "import matplotlib.pyplot as plt\n",
    "from sklearn import metrics\n",
    "import matplotlib.backends.backend_pdf\n",
    "import re\n",
    "import copy\n",
    "from astropy.visualization import make_lupton_rgb\n",
    "import matplotlib.image as mpimg\n",
    "import shutil\n",
    "import wget"
   ]
  },
  {
   "cell_type": "code",
   "execution_count": 2,
   "metadata": {},
   "outputs": [],
   "source": [
    "'''\n",
    "Use to create a new folder of fits files from an existing folder and numpy file\n",
    "\n",
    "'''\n",
    "\n",
    "def copy_fits(new_folder, prev_folder, indices):\n",
    "#     fits = sorted(glob.glob(prev_folder))\n",
    "    idx = np.load(indices)\n",
    "    for i in idx:\n",
    "        shutil.copy2('{}/cutout_{:06d}.fits'.format(prev_folder, int(i)), '{}/cutout_{:06d}.fits'.format(new_folder, int(i)))"
   ]
  },
  {
   "cell_type": "code",
   "execution_count": 34,
   "metadata": {},
   "outputs": [],
   "source": [
    "test = np.load('/Users/mac/Desktop/LBNL/cutouts_selected/selected_decals_nonlens_id_CDE.npy')\n",
    "fs = sorted(glob.glob('/Users/mac/Desktop/LBNL/cutouts_selected/selected_decals_nonlenses_jpegs_CDE'))"
   ]
  },
  {
   "cell_type": "code",
   "execution_count": 35,
   "metadata": {},
   "outputs": [
    {
     "data": {
      "text/plain": [
       "['/Users/mac/Desktop/LBNL/cutouts_selected/selected_decals_nonlenses_jpegs_CDE']"
      ]
     },
     "execution_count": 35,
     "metadata": {},
     "output_type": "execute_result"
    }
   ],
   "source": [
    "fs"
   ]
  },
  {
   "cell_type": "code",
   "execution_count": 29,
   "metadata": {},
   "outputs": [
    {
     "name": "stdout",
     "output_type": "stream",
     "text": [
      "idx . jpeg . id?\n"
     ]
    }
   ],
   "source": [
    "print('idx . jpeg . id?')\n",
    "for idx,f in enumerate(fs):\n",
    "    for i in test[1:len(fs)]:\n",
    "        print('{}:  {}  {}'.format(idx,f,i))"
   ]
  },
  {
   "cell_type": "code",
   "execution_count": 27,
   "metadata": {},
   "outputs": [],
   "source": [
    "t = 0\n",
    "idx = 2\n",
    "for i in test[2:501].astype(int):\n",
    "    if i == t:\n",
    "        print('{} ({}) == {} ({})'.format(t, idx-1, i, idx))\n",
    "        t = i\n",
    "        idx += 1\n",
    "    else:\n",
    "        t = i\n",
    "        idx += 1"
   ]
  },
  {
   "cell_type": "raw",
   "metadata": {},
   "source": [
    "new = '/Users/mac/Desktop/LBNL/cutouts_selected/selected_decals_nonlenses_fits_CDE'\n",
    "prev = '/Users/mac/Desktop/LBNL/cutouts/DR7/fits_cutouts_dr7_CDE'\n",
    "indices = '/Users/mac/Desktop/LBNL/cutouts_selected/selected_decals_nonlens_id_CDE.npy'\n",
    "copy_fits(new, prev, indices)"
   ]
  }
 ],
 "metadata": {
  "kernelspec": {
   "display_name": "Python 3",
   "language": "python",
   "name": "python3"
  },
  "language_info": {
   "codemirror_mode": {
    "name": "ipython",
    "version": 3
   },
   "file_extension": ".py",
   "mimetype": "text/x-python",
   "name": "python",
   "nbconvert_exporter": "python",
   "pygments_lexer": "ipython3",
   "version": "3.6.5"
  }
 },
 "nbformat": 4,
 "nbformat_minor": 2
}
