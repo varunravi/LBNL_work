{
 "cells": [
  {
   "cell_type": "code",
   "execution_count": 1,
   "metadata": {},
   "outputs": [],
   "source": [
    "%matplotlib inline\n",
    "import tensorflow as tf\n",
    "import numpy as np\n",
    "import glob\n",
    "import os\n",
    "import scipy\n",
    "from astropy.io import fits\n",
    "import importlib.util\n",
    "import matplotlib.pyplot as plt\n",
    "from sklearn import metrics\n",
    "import matplotlib.backends.backend_pdf\n",
    "import re\n",
    "import copy\n",
    "from astropy.visualization import make_lupton_rgb\n",
    "import matplotlib.image as mpimg\n",
    "import shutil"
   ]
  },
  {
   "cell_type": "code",
   "execution_count": 15,
   "metadata": {},
   "outputs": [],
   "source": [
    "def trim_jpegs(jpeg_path, amount=False):\n",
    "    for i,jpeg_file in enumerate(sorted(os.listdir(jpeg_path))):\n",
    "        if jpeg_file.endswith('.jpeg'):\n",
    "            jpeg = mpimg.imread(jpeg_path+jpeg_file)\n",
    "            jpeg = jpeg[77:178,77:178,:]\n",
    "            plt.imsave(jpeg_path+jpeg_file, jpeg)\n",
    "            if i % 1000 == 0:\n",
    "                print('\\tclipped {} jpegs'.format(i))\n",
    "            if amount != False:\n",
    "                if i == int(amount):\n",
    "                    print('clipped {} jpegs'.format(i))\n",
    "                    break"
   ]
  },
  {
   "cell_type": "code",
   "execution_count": 16,
   "metadata": {},
   "outputs": [
    {
     "name": "stdout",
     "output_type": "stream",
     "text": [
      "\tclipped 1000 jpegs\n",
      "\tclipped 2000 jpegs\n",
      "\tclipped 3000 jpegs\n",
      "\tclipped 4000 jpegs\n",
      "\tclipped 5000 jpegs\n",
      "\tclipped 6000 jpegs\n",
      "\tclipped 7000 jpegs\n",
      "\tclipped 8000 jpegs\n",
      "\tclipped 9000 jpegs\n",
      "\tclipped 10000 jpegs\n",
      "\tclipped 11000 jpegs\n",
      "\tclipped 12000 jpegs\n",
      "\tclipped 13000 jpegs\n",
      "\tclipped 14000 jpegs\n",
      "\tclipped 15000 jpegs\n",
      "\tclipped 16000 jpegs\n",
      "\tclipped 17000 jpegs\n",
      "\tclipped 18000 jpegs\n",
      "\tclipped 19000 jpegs\n",
      "\tclipped 20000 jpegs\n",
      "\tclipped 21000 jpegs\n",
      "\tclipped 22000 jpegs\n",
      "\tclipped 23000 jpegs\n",
      "\tclipped 24000 jpegs\n",
      "\tclipped 25000 jpegs\n",
      "\tclipped 26000 jpegs\n",
      "\tclipped 27000 jpegs\n",
      "\tclipped 28000 jpegs\n",
      "\tclipped 29000 jpegs\n",
      "\tclipped 30000 jpegs\n",
      "\tclipped 31000 jpegs\n",
      "\tclipped 32000 jpegs\n",
      "\tclipped 33000 jpegs\n",
      "\tclipped 34000 jpegs\n",
      "\tclipped 35000 jpegs\n",
      "\tclipped 36000 jpegs\n",
      "\tclipped 37000 jpegs\n",
      "\tclipped 38000 jpegs\n",
      "\tclipped 39000 jpegs\n",
      "\tclipped 40000 jpegs\n",
      "\tclipped 41000 jpegs\n",
      "\tclipped 42000 jpegs\n",
      "\tclipped 43000 jpegs\n",
      "\tclipped 44000 jpegs\n",
      "\tclipped 45000 jpegs\n",
      "\tclipped 46000 jpegs\n",
      "\tclipped 47000 jpegs\n",
      "\tclipped 48000 jpegs\n",
      "\tclipped 49000 jpegs\n",
      "\tclipped 50000 jpegs\n",
      "\tclipped 51000 jpegs\n",
      "\tclipped 52000 jpegs\n",
      "\tclipped 53000 jpegs\n",
      "\tclipped 54000 jpegs\n",
      "\tclipped 55000 jpegs\n",
      "\tclipped 56000 jpegs\n",
      "\tclipped 57000 jpegs\n",
      "\tclipped 58000 jpegs\n",
      "\tclipped 59000 jpegs\n",
      "\tclipped 60000 jpegs\n",
      "\tclipped 61000 jpegs\n",
      "\tclipped 62000 jpegs\n",
      "\tclipped 63000 jpegs\n"
     ]
    }
   ],
   "source": [
    "# ONLY RUN ONCE TO FIX TRIM\n",
    "dr = 7\n",
    "trim_jpegs(jpeg_path='/Users/mac/Desktop/LBNL/DR{}/jpegs_dr{}/'.format(dr,dr))"
   ]
  },
  {
   "cell_type": "raw",
   "metadata": {},
   "source": [
    "# ONLY RUN ONCE TO FIX TRIM\n",
    "dr = 7\n",
    "trim_jpegs(jpeg_path='/Users/mac/Desktop/LBNL/DR{}/kept_decals_nonlenses_check/'.format(dr))"
   ]
  },
  {
   "cell_type": "raw",
   "metadata": {},
   "source": [
    "# ONLY RUN ONCE TO FIX TRIM\n",
    "dr = 7\n",
    "trim_jpegs(jpeg_path='/Users/mac/Desktop/LBNL/DR{}/selected_decals_nonlenses_jpegs/'.format(dr))"
   ]
  }
 ],
 "metadata": {
  "kernelspec": {
   "display_name": "Python 3",
   "language": "python",
   "name": "python3"
  },
  "language_info": {
   "codemirror_mode": {
    "name": "ipython",
    "version": 3
   },
   "file_extension": ".py",
   "mimetype": "text/x-python",
   "name": "python",
   "nbconvert_exporter": "python",
   "pygments_lexer": "ipython3",
   "version": "3.6.5"
  }
 },
 "nbformat": 4,
 "nbformat_minor": 2
}
