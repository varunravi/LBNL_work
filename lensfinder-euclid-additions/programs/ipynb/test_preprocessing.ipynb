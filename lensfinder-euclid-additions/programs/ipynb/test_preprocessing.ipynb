{
 "cells": [
  {
   "cell_type": "markdown",
   "metadata": {},
   "source": [
    "### testing preparation methods done by LASTRO"
   ]
  },
  {
   "cell_type": "code",
   "execution_count": 19,
   "metadata": {},
   "outputs": [],
   "source": [
    "%matplotlib inline\n",
    "import tensorflow as tf\n",
    "import numpy as np\n",
    "import glob\n",
    "import os\n",
    "from astropy.io import fits\n",
    "import importlib.util\n",
    "import matplotlib.pyplot as plt\n",
    "from sklearn.metrics import roc_curve, auc\n",
    "import matplotlib.backends.backend_pdf\n",
    "import re"
   ]
  },
  {
   "cell_type": "code",
   "execution_count": 20,
   "metadata": {},
   "outputs": [],
   "source": [
    "def prepare(images):\n",
    "    images[images == 100] = 0.0\n",
    "    mean = np.mean(images)\n",
    "    std = np.std(images)\n",
    "    images = (images - mean) / std\n",
    "    return images, mean, std"
   ]
  },
  {
   "cell_type": "code",
   "execution_count": 21,
   "metadata": {},
   "outputs": [
    {
     "name": "stdout",
     "output_type": "stream",
     "text": [
      "(20000, 101, 101, 4)\n"
     ]
    }
   ],
   "source": [
    "# original 4 band images to check method\n",
    "files4 = sorted(glob.glob('/Users/mac/Desktop/LBNL/challenge_data/GroundBasedTraining/npz/*.npz'))\n",
    "x4 = np.zeros((len(files4), 101, 101, 4))\n",
    "for i,f in enumerate(files4):\n",
    "    with np.load(f) as data:\n",
    "        im = data['image']\n",
    "    x4[i] = im\n",
    "print(x4.shape)"
   ]
  },
  {
   "cell_type": "code",
   "execution_count": 22,
   "metadata": {},
   "outputs": [
    {
     "name": "stdout",
     "output_type": "stream",
     "text": [
      "(20000, 101, 101, 3)\n"
     ]
    }
   ],
   "source": [
    "# new 3 band images to get mean and stf\n",
    "files3 = sorted(glob.glob('/Users/mac/Desktop/LBNL/lensfinder-euclid-master/npz_3band_groundbased/*.npz'))\n",
    "x3 = np.zeros((len(files3), 101, 101, 3))\n",
    "for i,f in enumerate(files3):\n",
    "    with np.load(f) as data:\n",
    "        im = data['image']\n",
    "    x3[i] = im\n",
    "print(x3.shape)"
   ]
  },
  {
   "cell_type": "code",
   "execution_count": 23,
   "metadata": {},
   "outputs": [],
   "source": [
    "x4mean = np.mean(x4)\n",
    "x3mean = np.mean(x3)\n",
    "x4std = np.std(x4)\n",
    "x3std = np.std(x3)\n",
    "x4p, x4pmean, x4pstd = prepare(x4)\n",
    "x3p, x3pmean, x3pstd = prepare(x3)"
   ]
  },
  {
   "cell_type": "code",
   "execution_count": 24,
   "metadata": {},
   "outputs": [
    {
     "name": "stdout",
     "output_type": "stream",
     "text": [
      "- UNPREPARED -\n",
      "\n",
      "4 band\n",
      "mean = 1.1923566317041112\n",
      "std = 10.854213413845873\n",
      "\n",
      "3 band\n",
      "mean = 1.1340948599827658\n",
      "std = 10.58882972035045\n",
      "\n",
      "- PREPARED -\n",
      "\n",
      "4 band\n",
      "mean = 1.6649487250414204e-12 (after mask) -1.7679912800684978e-16 (after normed)\n",
      "std = 5.090208456258302e-11 (after mask) 0.999999999999995 (after normed)\n",
      "\n",
      "3 band\n",
      "mean = 2.020098959059707e-12 (after mask) 5.295698483093407e-16 (after normed)\n",
      "std = 5.3907523393359274e-11 (after mask) 1.0000000000000016 (after normed)\n"
     ]
    }
   ],
   "source": [
    "print('- UNPREPARED -')\n",
    "print('\\n4 band\\nmean = {}\\nstd = {}'.format(x4mean, x4std))\n",
    "print('\\n3 band\\nmean = {}\\nstd = {}'.format(x3mean, x3std))\n",
    "\n",
    "print('\\n- PREPARED -')\n",
    "print('\\n4 band\\nmean = {} (after mask) {} (after normed)\\nstd = {} (after mask) {} (after normed)'.format(x4pmean, np.mean(x4p), x4pstd, np.std(x4p)))\n",
    "print('\\n3 band\\nmean = {} (after mask) {} (after normed)\\nstd = {} (after mask) {} (after normed)'.format(x3pmean, np.mean(x3p), x3pstd, np.std(x3p)))"
   ]
  },
  {
   "cell_type": "code",
   "execution_count": 16,
   "metadata": {},
   "outputs": [],
   "source": [
    "# checking stuff for data being used to train 3 band LASTRO model\n",
    "\n",
    "f_train = files3[1500:5000]\n",
    "f_test = files3[:1500]\n",
    "\n",
    "train_lens = 0\n",
    "train_nonlens = 0\n",
    "test_lens = 0\n",
    "test_nonlens = 0\n",
    "\n",
    "for f in f_train:\n",
    "    with np.load(f) as data:\n",
    "        if data['is_lens'] == 1:\n",
    "            train_lens += 1\n",
    "        if data['is_lens'] == 0:\n",
    "            train_nonlens += 1\n",
    "for f in f_test:\n",
    "    with np.load(f) as data:\n",
    "        if data['is_lens'] == 1:\n",
    "            test_lens += 1\n",
    "        if data['is_lens'] == 0:\n",
    "            test_nonlens += 1"
   ]
  },
  {
   "cell_type": "code",
   "execution_count": 18,
   "metadata": {},
   "outputs": [
    {
     "name": "stdout",
     "output_type": "stream",
     "text": [
      "train_lens = 1390/3500\n",
      "train_nonlens = 2110/3500\n",
      "test_lens = 629/1500\n",
      "test_nonlens = 871/1500\n"
     ]
    }
   ],
   "source": [
    "print('train_lens = {}/3500\\ntrain_nonlens = {}/3500\\ntest_lens = {}/1500\\ntest_nonlens = {}/1500'.format(train_lens,train_nonlens,test_lens,test_nonlens))"
   ]
  },
  {
   "cell_type": "code",
   "execution_count": 33,
   "metadata": {},
   "outputs": [
    {
     "name": "stdout",
     "output_type": "stream",
     "text": [
      "0/72\n",
      "12/72\n",
      "24/72\n",
      "36/72\n",
      "48/72\n",
      "60/72\n"
     ]
    }
   ],
   "source": [
    "for i in range(0, 72, 12):\n",
    "    print('{}/{}'.format(i, 72))"
   ]
  },
  {
   "cell_type": "code",
   "execution_count": null,
   "metadata": {},
   "outputs": [],
   "source": []
  }
 ],
 "metadata": {
  "kernelspec": {
   "display_name": "Python 3",
   "language": "python",
   "name": "python3"
  },
  "language_info": {
   "codemirror_mode": {
    "name": "ipython",
    "version": 3
   },
   "file_extension": ".py",
   "mimetype": "text/x-python",
   "name": "python",
   "nbconvert_exporter": "python",
   "pygments_lexer": "ipython3",
   "version": "3.6.5"
  }
 },
 "nbformat": 4,
 "nbformat_minor": 2
}
