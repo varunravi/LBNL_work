{
 "cells": [
  {
   "cell_type": "markdown",
   "metadata": {},
   "source": [
    "### testing out my own function for generating tpr, fpr, and roc curves"
   ]
  },
  {
   "cell_type": "code",
   "execution_count": 1,
   "metadata": {},
   "outputs": [],
   "source": [
    "%matplotlib inline\n",
    "import tensorflow as tf\n",
    "import numpy as np\n",
    "import glob\n",
    "import os\n",
    "from astropy.io import fits\n",
    "import importlib.util\n",
    "import matplotlib.pyplot as plt\n",
    "from sklearn.metrics import roc_curve, auc\n",
    "import matplotlib.backends.backend_pdf\n",
    "import re"
   ]
  },
  {
   "cell_type": "code",
   "execution_count": 53,
   "metadata": {},
   "outputs": [],
   "source": [
    "def roc_manual(predictions, targets, title=False, auc_type=False):\n",
    "    '''\n",
    "    Input predictions and targets to generate roc plot to maximum resolution. Optional specification\n",
    "    of a plot title and auc type (for when plotting multiple models/data preparations) \n",
    "    '''\n",
    "    #get sets\n",
    "    num_0s = 0\n",
    "    num_1s = 0\n",
    "    for t in targets:\n",
    "        if int(t) == 0:\n",
    "            num_0s += 1\n",
    "        if int(t) == 1:\n",
    "            num_1s += 1\n",
    "    step_tpr = float(1/num_1s)\n",
    "    step_fpr = float(1/num_0s)\n",
    "    tpr_pts = [1]\n",
    "    fpr_pts = [1]\n",
    "    for pred in sorted(predictions):\n",
    "        threshold = pred\n",
    "        tpr = 0.\n",
    "        fpr = 0.\n",
    "        for p,t in zip(predictions, targets):\n",
    "            if p > threshold and int(t) == 1:\n",
    "                fpr += step_tpr\n",
    "            if p > threshold and int(t) == 0:\n",
    "                tpr += step_fpr\n",
    "        tpr_pts.append(tpr)\n",
    "        fpr_pts.append(fpr)\n",
    "    auc_plot = auc(tpr_pts, fpr_pts)\n",
    "    #plot\n",
    "    plt.figure(figsize=(10,10))\n",
    "    if title != False:\n",
    "        plt.title(title, fontsize=15)\n",
    "    else:\n",
    "        plt.title('ROC', fontsize=15)\n",
    "    plot_label = 'AUC = {:.2f}%'.format(auc_plot)\n",
    "    if auc_type != False:\n",
    "        plot_label = '{} AUC = {:.2f}%'.format(auc_type, auc_plot)\n",
    "    plt.plot(tpr_pts, fpr_pts, color='b', label=plot_label)\n",
    "    plt.plot([0,1], [0,1], 'r--')\n",
    "    plt.xlim([0,1])\n",
    "    plt.ylim([0,1])\n",
    "    plt.ylabel('TPR')\n",
    "    plt.xlabel('FPR')\n",
    "    plt.legend(loc='lower right', fontsize=15)\n",
    "    plt.show()\n",
    "    \n",
    "    return tpr_pts, fpr_pts, auc"
   ]
  },
  {
   "cell_type": "code",
   "execution_count": null,
   "metadata": {},
   "outputs": [],
   "source": [
    "def tpr_fpr_auc(predictions, targets):\n",
    "    '''\n",
    "    Returns tpr, fpr, auc for given predictions with targets.\n",
    "    '''\n",
    "    num_0s = 0\n",
    "    num_1s = 0\n",
    "    for t in targets:\n",
    "        if int(t) == 0:\n",
    "            num_0s += 1\n",
    "        if int(t) == 1:\n",
    "            num_1s += 1\n",
    "    step_tpr = float(1/num_1s)\n",
    "    step_fpr = float(1/num_0s)\n",
    "    tpr_pts = [1]\n",
    "    fpr_pts = [1]\n",
    "    for pred in sorted(predictions):\n",
    "        threshold = pred\n",
    "        tpr = 0.\n",
    "        fpr = 0.\n",
    "        for p,t in zip(predictions, targets):\n",
    "            if p > threshold and int(t) == 1:\n",
    "                fpr += step_tpr\n",
    "            if p > threshold and int(t) == 0:\n",
    "                tpr += step_fpr\n",
    "        tpr_pts.append(tpr)\n",
    "        fpr_pts.append(fpr)\n",
    "    ret_auc = metrics.auc(tpr_pts, fpr_pts)\n",
    "    \n",
    "    return tpr_pts, fpr_pts, ret_auc"
   ]
  },
  {
   "cell_type": "code",
   "execution_count": null,
   "metadata": {},
   "outputs": [],
   "source": [
    "def plot_roc_manual(tpr, fpr, auc, auc_type=False, title=False, savefig=False):\n",
    "    '''\n",
    "    Plot ROC curve with given values.\n",
    "    '''\n",
    "    if auc_type == False:\n",
    "        auc_type = ['']*len(tpr) # initialize empty if not give to work with zip()\n",
    "    plt.figure(figsize=(10,10))\n",
    "    if title != False: # check for title\n",
    "        plt.title(title, fontsize=15)\n",
    "    else:\n",
    "        plt.title('ROC', fontsize=15)\n",
    "    plt.plot([0,1], [0,1], 'r--') # 45deg line\n",
    "    for t,f,a,at in zip(tpr,fpr,auc,auc_type): # go through lists\n",
    "        plt.plot(t, f, label='{} AUC = {:.2f}%'.format(at, a*100))\n",
    "    plt.xlim([0,1])\n",
    "    plt.ylim([0,1])\n",
    "    plt.ylabel('TPR')\n",
    "    plt.xlabel('FPR')\n",
    "    plt.legend(loc='lower right', fontsize=15)\n",
    "    plt.show()"
   ]
  },
  {
   "cell_type": "code",
   "execution_count": 56,
   "metadata": {},
   "outputs": [
    {
     "data": {
      "image/png": "[encoded data removed]",
      "text/plain": [
       "<Figure size 720x720 with 1 Axes>"
      ]
     },
     "metadata": {},
     "output_type": "display_data"
    },
    {
     "data": {
      "text/plain": [
       "([1, 0.75, 0.5, 0.25, 0.25, 0.0, 0.0, 0.0, 0.0],\n",
       " [1, 1.0, 1.0, 1.0, 0.75, 0.75, 0.5, 0.25, 0.0],\n",
       " <function sklearn.metrics.ranking.auc(x, y, reorder=False)>)"
      ]
     },
     "execution_count": 56,
     "metadata": {},
     "output_type": "execute_result"
    }
   ],
   "source": [
    "preds_tester = [.01, .3, .5, .65, .6, .85, .9, .99 ]\n",
    "targs_tester = [0., 0., 0., 0., 1., 1., 1., 1.]\n",
    "roc_manual(preds_tester, targs_tester, title='ROC test', auc_type='cool')"
   ]
  },
  {
   "cell_type": "code",
   "execution_count": null,
   "metadata": {},
   "outputs": [],
   "source": []
  }
 ],
 "metadata": {
  "kernelspec": {
   "display_name": "Python 3",
   "language": "python",
   "name": "python3"
  },
  "language_info": {
   "codemirror_mode": {
    "name": "ipython",
    "version": 3
   },
   "file_extension": ".py",
   "mimetype": "text/x-python",
   "name": "python",
   "nbconvert_exporter": "python",
   "pygments_lexer": "ipython3",
   "version": "3.6.5"
  }
 },
 "nbformat": 4,
 "nbformat_minor": 2
}
