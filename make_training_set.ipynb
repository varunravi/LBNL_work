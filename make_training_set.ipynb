{
 "cells": [
  {
   "cell_type": "markdown",
   "metadata": {},
   "source": [
    "### use to generate npz file subet folders for training LASTRO models"
   ]
  },
  {
   "cell_type": "code",
   "execution_count": 64,
   "metadata": {},
   "outputs": [],
   "source": [
    "%matplotlib inline\n",
    "import tensorflow as tf\n",
    "import numpy as np\n",
    "import glob\n",
    "import os\n",
    "from astropy.io import fits\n",
    "import importlib.util\n",
    "import matplotlib.pyplot as plt\n",
    "from sklearn.metrics import roc_curve, auc\n",
    "import matplotlib.backends.backend_pdf\n",
    "import re\n",
    "import shutil"
   ]
  },
  {
   "cell_type": "code",
   "execution_count": 71,
   "metadata": {},
   "outputs": [],
   "source": [
    "npz_path = '/Users/mac/Desktop/LBNL/lensfinder-euclid-master/npz_3band_groundbased/'\n",
    "files = sorted(glob.glob(npz_path+'*.npz'))"
   ]
  },
  {
   "cell_type": "code",
   "execution_count": 72,
   "metadata": {},
   "outputs": [
    {
     "name": "stdout",
     "output_type": "stream",
     "text": [
      "20000\n"
     ]
    }
   ],
   "source": [
    "print(len(files))"
   ]
  },
  {
   "cell_type": "code",
   "execution_count": 73,
   "metadata": {},
   "outputs": [],
   "source": [
    "def create_npz_folder(n_lens, n_nonlens, prev_npz_path, new_npz_path):\n",
    "    files = sorted(glob.glob(prev_npz_path+'*.npz'))\n",
    "    print('files will be copied from', prev_npz_path)\n",
    "    # get lens IDs\n",
    "    lens_ids = []\n",
    "    for i,f in enumerate(files[1500:]):\n",
    "        with np.load(f) as data:\n",
    "            if data['is_lens'] == 1:\n",
    "                lens_ids.append(data['id'])\n",
    "        if len(lens_ids) == n_lens:\n",
    "            print('got {} lens'.format(n_lens))\n",
    "            break\n",
    "\n",
    "    # get nonlens IDs\n",
    "    nonlens_ids = []\n",
    "    for i,f in enumerate(files[1500:]):\n",
    "        with np.load(f) as data:\n",
    "            if data['is_lens'] == 0:\n",
    "                nonlens_ids.append(data['id'])\n",
    "        if len(nonlens_ids) == n_nonlens:\n",
    "            print('got {} nonlens'.format(n_nonlens))\n",
    "            break\n",
    "\n",
    "    print('copying {} specified files to {}'.format(n_lens+n_nonlens, new_npz_path))\n",
    "    for ID in lens_ids:\n",
    "        shutil.copy2(prev_npz_path+'{}.npz'.format(str(ID)), new_npz_path+'lens_{}.npz'.format(str(ID)))\n",
    "    for ID in nonlens_ids:\n",
    "        shutil.copy2(prev_npz_path+'{}.npz'.format(str(ID)), new_npz_path+'nonlens_{}.npz'.format(str(ID)))"
   ]
  },
  {
   "cell_type": "code",
   "execution_count": 75,
   "metadata": {},
   "outputs": [
    {
     "name": "stdout",
     "output_type": "stream",
     "text": [
      "files will be copied from /Users/mac/Desktop/LBNL/lensfinder-euclid-master/npz_3band_groundbased/\n",
      "got 105 lens\n",
      "got 215 nonlens\n",
      "copying 320 specified files to /Users/mac/Desktop/LBNL/lensfinder-euclid-master/npz_3band_groundbased_105-215_3/\n"
     ]
    }
   ],
   "source": [
    "prev_npz_path = '/Users/mac/Desktop/LBNL/lensfinder-euclid-master/npz_3band_groundbased/'\n",
    "new_npz_path = '/Users/mac/Desktop/LBNL/lensfinder-euclid-master/npz_3band_groundbased_105-215_4/'\n",
    "\n",
    "create_npz_folder(105, 215, prev_npz_path, new_npz_path)"
   ]
  },
  {
   "cell_type": "code",
   "execution_count": 63,
   "metadata": {},
   "outputs": [
    {
     "name": "stdout",
     "output_type": "stream",
     "text": [
      "files will be copied from /Users/mac/Desktop/LBNL/lensfinder-euclid-master/npz_3band_groundbased/\n",
      "got 105 lens\n",
      "got 215 nonlens\n",
      "copying 320 specified files to /Users/mac/Desktop/LBNL/lensfinder-euclid-master/npz_3band_groundbased_95-215/\n"
     ]
    }
   ],
   "source": [
    "# 320 total - 105 lens, 215 nonlens\n",
    "create_npz_folder(105, 215, prev_npz_path, '/Users/mac/Desktop/LBNL/lensfinder-euclid-master/npz_3band_groundbased_105-215/')"
   ]
  }
 ],
 "metadata": {
  "kernelspec": {
   "display_name": "Python 3",
   "language": "python",
   "name": "python3"
  },
  "language_info": {
   "codemirror_mode": {
    "name": "ipython",
    "version": 3
   },
   "file_extension": ".py",
   "mimetype": "text/x-python",
   "name": "python",
   "nbconvert_exporter": "python",
   "pygments_lexer": "ipython3",
   "version": "3.6.5"
  }
 },
 "nbformat": 4,
 "nbformat_minor": 2
}
